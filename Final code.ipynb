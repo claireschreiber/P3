{
 "cells": [
  {
   "cell_type": "code",
   "execution_count": null,
   "metadata": {},
   "outputs": [],
   "source": [
    "#Here we have Bing News Search, Sentiment Analysis, and requests and json()!"
   ]
  },
  {
   "cell_type": "code",
   "execution_count": 2,
   "metadata": {},
   "outputs": [
    {
     "data": {
      "text/plain": [
       "{'_type': 'News',\n",
       " 'webSearchUrl': 'https://www.bing.com/news/search?q=top+stories&form=TNSA02',\n",
       " 'value': [{'name': 'Digging for dollar signs amid edtech’s current momentum',\n",
       "   'url': 'https://techcrunch.com/2020/04/29/digging-for-dollar-signs-amid-edtechs-current-momentum/',\n",
       "   'image': {'thumbnail': {'contentUrl': 'https://www.bing.com/th?id=ON.D0007B240A5A8F04B963859A0EAA66EF&pid=News',\n",
       "     'width': 525,\n",
       "     'height': 400}},\n",
       "   'description': 'Edtech was long defined by stodgy sales cycles, sluggish adoption and splashy pitches to K-12 districts with tight budgets, but the COVID-19 pandemic turned that reputation on its head in short order.',\n",
       "   'about': [{'readLink': 'https://api.cognitive.microsoft.com/api/v7/entities/071d8b1f-c6aa-9681-161b-9f352126ade2',\n",
       "     'name': 'Momentum'}],\n",
       "   'provider': [{'_type': 'Organization',\n",
       "     'name': 'TechCrunch',\n",
       "     'image': {'thumbnail': {'contentUrl': 'https://www.bing.com/th?id=AR_41da8f2e70e1e401f764f7157d16f2fa&pid=news'}}}],\n",
       "   'datePublished': '2020-04-29T18:36:00.0000000Z',\n",
       "   'category': 'ScienceAndTechnology',\n",
       "   'headline': True,\n",
       "   'ampUrl': 'https://techcrunch.com/2020/04/29/digging-for-dollar-signs-amid-edtechs-current-momentum/amp/'},\n",
       "  {'name': \"Fed leaves rates at zero but will use its 'full range of tools' to help the economy\",\n",
       "   'url': 'https://www.cnn.com/2020/04/29/economy/federal-reserve-april-meeting/index.html',\n",
       "   'image': {'thumbnail': {'contentUrl': 'https://www.bing.com/th?id=ON.014AB6F8620DE7309BAE0348316C53DE&pid=News',\n",
       "     'width': 700,\n",
       "     'height': 393}},\n",
       "   'description': 'The Federal Reserve on Wednesday left interest rates unchanged near zero and said it would deploy its \"full range of tools\" to support the US economy as the coronavirus pandemic continues to wreak havoc on the US economy.',\n",
       "   'about': [{'readLink': 'https://api.cognitive.microsoft.com/api/v7/entities/8249b924-0798-dc16-60ff-5c3b54a933f0',\n",
       "     'name': 'Economy'},\n",
       "    {'readLink': 'https://api.cognitive.microsoft.com/api/v7/entities/c4c637e5-f9cc-a3ed-3380-7152515e062e',\n",
       "     'name': 'CNN'}],\n",
       "   'mentions': [{'name': 'Economy'}, {'name': 'CNN'}, {'name': 'Rates'}],\n",
       "   'provider': [{'_type': 'Organization',\n",
       "     'name': 'CNN',\n",
       "     'image': {'thumbnail': {'contentUrl': 'https://www.bing.com/th?id=AR_34c0b98797bce395c518158cf055747c&pid=news'}}}],\n",
       "   'datePublished': '2020-04-29T18:04:00.0000000Z',\n",
       "   'category': 'Business',\n",
       "   'headline': True,\n",
       "   'ampUrl': 'https://amp.cnn.com/cnn/2020/04/29/economy/federal-reserve-april-meeting/index.html'},\n",
       "  {'name': 'Half of States Don’t Meet Benchmarks to Reopen Amid Coronavirus Pandemic, Analysis Shows',\n",
       "   'url': 'https://www.usnews.com/news/best-states/articles/2020-04-29/half-of-states-not-ready-to-reopen-amid-pandemic-analysis-shows',\n",
       "   'image': {'thumbnail': {'contentUrl': 'https://www.bing.com/th?id=ON.0BA63B9F28B15535D0C9D0419053C13E&pid=News',\n",
       "     'width': 700,\n",
       "     'height': 466}},\n",
       "   'description': 'States may be poised to reopen prematurely, data shows, prompting some public health officials to warn of a resurgence of coronavirus cases and deaths.',\n",
       "   'provider': [{'_type': 'Organization',\n",
       "     'name': 'U.S. News & World Report',\n",
       "     'image': {'thumbnail': {'contentUrl': 'https://www.bing.com/th?id=AR_9f4e7717a371a0a5e2bbf48b4ca76ed5&pid=news'}}}],\n",
       "   'datePublished': '2020-04-29T16:56:00.0000000Z',\n",
       "   'category': 'Health',\n",
       "   'headline': True,\n",
       "   'ampUrl': 'https://www.usnews.com/news/best-states/articles/2020-04-29/half-of-states-not-ready-to-reopen-amid-pandemic-analysis-shows?context=amp'},\n",
       "  {'name': 'Scuffle erupts between protesters, security in Michigan House gallery',\n",
       "   'url': 'https://www.freep.com/story/news/local/michigan/2020/04/29/lansing-capitol-confrontation-erupts-between-demonstrators-and-security/3047750001/',\n",
       "   'image': {'thumbnail': {'contentUrl': 'https://www.bing.com/th?id=ON.0EA75C6A3247828F8D667E07AFA4CDC2&pid=News',\n",
       "     'width': 700,\n",
       "     'height': 350}},\n",
       "   'description': 'The Michigan State Police is investigating the incident, in which at least one demonstrator alleges she was assaulted by House sergeants.',\n",
       "   'about': [{'readLink': 'https://api.cognitive.microsoft.com/api/v7/entities/f21a634c-2782-fc5a-d593-f5b218c15de5',\n",
       "     'name': 'Security on the Mass Rapid Transit'}],\n",
       "   'mentions': [{'name': 'Security on the Mass Rapid Transit'},\n",
       "    {'name': 'Michigan House of Representatives'},\n",
       "    {'name': 'Whitmer, West Virginia'}],\n",
       "   'provider': [{'_type': 'Organization',\n",
       "     'name': 'Detroit Free Press',\n",
       "     'image': {'thumbnail': {'contentUrl': 'https://www.bing.com/th?id=AR_042b9da277622db2efffd94b434374b3&pid=news'}}}],\n",
       "   'datePublished': '2020-04-29T16:10:00.0000000Z',\n",
       "   'headline': True,\n",
       "   'ampUrl': 'https://amp.freep.com/amp/3047750001'},\n",
       "  {'name': 'Navy orders deeper dive into Roosevelt incident, delays decision on future of Capt. Crozier',\n",
       "   'url': 'https://www.usatoday.com/story/news/politics/2020/04/29/coronavirus-navy-wants-bigger-look-into-capt-crozier-fired/3036344001/',\n",
       "   'image': {'thumbnail': {'contentUrl': 'https://www.bing.com/th?id=ON.997CC7D145E0F65E7ED4C946187DC6AC&pid=News',\n",
       "     'width': 700,\n",
       "     'height': 393}},\n",
       "   'description': 'Acting Navy Secretary James\\xa0McPherson said he ordered the more comprehensive investigation after receiving the findings of\\xa0a preliminary inquiry.',\n",
       "   'provider': [{'_type': 'Organization',\n",
       "     'name': 'USA Today',\n",
       "     'image': {'thumbnail': {'contentUrl': 'https://www.bing.com/th?id=AR_e1f4ddfe292e1858eda89344172946a9&pid=news'}}}],\n",
       "   'datePublished': '2020-04-29T14:43:00.0000000Z',\n",
       "   'category': 'US',\n",
       "   'headline': True,\n",
       "   'ampUrl': 'https://amp.usatoday.com/amp/3036344001'},\n",
       "  {'name': 'COVID cases rise by 463 as testing increases',\n",
       "   'url': 'https://www.msn.com/en-us/health/medical/covid-cases-rise-by-463-as-testing-increases/ar-BB13nIs1',\n",
       "   'image': {'thumbnail': {'contentUrl': 'https://www.bing.com/th?id=ON.19B2074647740BCF382C2D552D039CD4&pid=News',\n",
       "     'width': 600,\n",
       "     'height': 315}},\n",
       "   'description': 'State health officials are bracing Minnesotans for a substantial increase in COVID-19 cases, including 463 lab-confirmed cases reported Wednesday morning, as testing increases for the novel coronavirus that causes the infectious disease.',\n",
       "   'mentions': [{'name': 'Health'},\n",
       "    {'name': 'United States'},\n",
       "    {'name': 'Volkswagen Golf'}],\n",
       "   'provider': [{'_type': 'Organization',\n",
       "     'name': 'Minneapolis Star Tribune on MSN.com',\n",
       "     'image': {'thumbnail': {'contentUrl': 'https://www.bing.com/th?id=AR_3e5cdc2dd3b73c267ad7838519d5288c&pid=news'}}}],\n",
       "   'datePublished': '2020-04-29T17:38:00.0000000Z',\n",
       "   'category': 'Health',\n",
       "   'headline': True},\n",
       "  {'name': 'Video Shows California Boy, 14, Being Punched by Police Officer',\n",
       "   'url': 'https://www.nytimes.com/2020/04/29/us/rancho-cordova-police.html',\n",
       "   'image': {'thumbnail': {'contentUrl': 'https://www.bing.com/th?id=ON.2FD157210A33A2A2C416000CA4D78235&pid=News',\n",
       "     'width': 700,\n",
       "     'height': 366}},\n",
       "   'description': 'The police in Rancho Cordova, Calif., and the Sacramento County Sheriff’s Department are investigating the incident, which was captured in a video that was widely shared on social media.',\n",
       "   'provider': [{'_type': 'Organization',\n",
       "     'name': 'New York Times',\n",
       "     'image': {'thumbnail': {'contentUrl': 'https://www.bing.com/th?id=AR_cc657c1af702fae867766bbf2aa25756&pid=news'}}}],\n",
       "   'datePublished': '2020-04-29T18:14:00.0000000Z',\n",
       "   'category': 'US',\n",
       "   'headline': True,\n",
       "   'ampUrl': 'https://www.nytimes.com/2020/04/29/us/rancho-cordova-police.amp.html'},\n",
       "  {'name': 'The Newest Fox News Doctor Duo Has Been ‘Emphatically’ Condemned by Physician Groups',\n",
       "   'url': 'https://www.thedailybeast.com/the-newest-fox-news-doctor-duo-have-been-emphatically-condemned-by-physician-groups',\n",
       "   'image': {'thumbnail': {'contentUrl': 'https://www.bing.com/th?id=ON.55E5291AFC8DE07E91EB87F4FFBB45FF&pid=News',\n",
       "     'width': 700,\n",
       "     'height': 393}},\n",
       "   'description': 'Dan Erickson and Artin Massihi are making some wild claims about coronavirus fatality rates. It’s made them media stars. But actual doctors are appalled.',\n",
       "   'about': [{'readLink': 'https://api.cognitive.microsoft.com/api/v7/entities/0f2de3fb-95ae-f11f-6be8-3ec87fa9b8d9',\n",
       "     'name': 'Angela Channing'}],\n",
       "   'provider': [{'_type': 'Organization',\n",
       "     'name': 'The Daily Beast',\n",
       "     'image': {'thumbnail': {'contentUrl': 'https://www.bing.com/th?id=AR_95e5fadf23da94920f027217bdedd0ed&pid=news'}}}],\n",
       "   'datePublished': '2020-04-29T10:36:00.0000000Z',\n",
       "   'category': 'Health',\n",
       "   'headline': True},\n",
       "  {'name': 'Ron Rivera Confirms Redskins Were Idiots at Trade Deadline Last Year',\n",
       "   'url': 'https://www.thebiglead.com/posts/trent-williams-trade-ron-rivera-first-round-pick-01e73dq87njf',\n",
       "   'image': {'thumbnail': {'contentUrl': 'https://www.bing.com/th?id=ON.85DEC0FB067F87942743E4C8C7A13DDD&pid=News',\n",
       "     'width': 700,\n",
       "     'height': 393}},\n",
       "   'description': \"Ron Rivera let slip with some information that doesn't make his Washington Redskins bosses look particularly good. The new Redskins head coach was a guest of Kevin Sheehan's on 980 The Team in Washington and dropped a bomb about a potential Trent Williams trade that fell through.\",\n",
       "   'about': [{'readLink': 'https://api.cognitive.microsoft.com/api/v7/entities/7f0d7787-7271-b0a7-2df8-c8017a786ed2',\n",
       "     'name': 'Ron Rivera'},\n",
       "    {'readLink': 'https://api.cognitive.microsoft.com/api/v7/entities/ccb288c8-3c0a-8269-a414-4c63e79b8257',\n",
       "     'name': 'Trade'},\n",
       "    {'readLink': 'https://api.cognitive.microsoft.com/api/v7/entities/f0ddbec7-2b32-8786-b71a-fff5c375b5ea',\n",
       "     'name': 'Washington Redskins'}],\n",
       "   'mentions': [{'name': 'Ron Rivera'},\n",
       "    {'name': 'Trade'},\n",
       "    {'name': 'Washington Redskins'}],\n",
       "   'provider': [{'_type': 'Organization',\n",
       "     'name': 'The Big Lead',\n",
       "     'image': {'thumbnail': {'contentUrl': 'https://www.bing.com/th?id=AR_34649cbdcb99fa329cc1fdc135351da4&pid=news'}}}],\n",
       "   'datePublished': '2020-04-29T17:39:00.0000000Z',\n",
       "   'category': 'Sports',\n",
       "   'headline': True,\n",
       "   'ampUrl': 'https://www.thebiglead.com/amp/posts/trent-williams-trade-ron-rivera-first-round-pick-01e73dq87njf'},\n",
       "  {'name': 'Watch live at 2 p.m.: Duggan expected to outline plans to resume construction in Detroit',\n",
       "   'url': 'https://www.freep.com/story/news/local/michigan/detroit/2020/04/29/detroit-mike-duggan-coronavirus-update/3048887001/',\n",
       "   'image': {'thumbnail': {'contentUrl': 'https://www.bing.com/th?id=ON.4746090B183116E6243D8A4FF791EE8A&pid=News',\n",
       "     'width': 700,\n",
       "     'height': 394}},\n",
       "   'description': \"Mayor Mike Duggan will provide an update to Detroit's response to the coronavirus pandemic at 2 p.m. Wednesday at the Detroit Public Safety Headquarters.\",\n",
       "   'about': [{'readLink': 'https://api.cognitive.microsoft.com/api/v7/entities/4c592419-4b3b-4608-9820-cb8179963aed',\n",
       "     'name': 'Mike Duggan'}],\n",
       "   'provider': [{'_type': 'Organization',\n",
       "     'name': 'Detroit Free Press',\n",
       "     'image': {'thumbnail': {'contentUrl': 'https://www.bing.com/th?id=AR_042b9da277622db2efffd94b434374b3&pid=news'}}}],\n",
       "   'datePublished': '2020-04-29T17:45:00.0000000Z',\n",
       "   'category': 'Politics',\n",
       "   'headline': True,\n",
       "   'ampUrl': 'https://amp.freep.com/amp/3048887001'}]}"
      ]
     },
     "execution_count": 2,
     "metadata": {},
     "output_type": "execute_result"
    }
   ],
   "source": [
    "import requests\n",
    "import json\n",
    "\n",
    "def NewsStories():\n",
    "    url = \"https://microsoft-azure-bing-news-search-v1.p.rapidapi.com/\"\n",
    "\n",
    "    headers = {\n",
    "        'x-rapidapi-host': \"microsoft-azure-bing-news-search-v1.p.rapidapi.com\",\n",
    "        'x-rapidapi-key': \"56e59c14d3msh07e7b4221df836fp1fe2d5jsn225bea4577d6\"\n",
    "        }\n",
    "\n",
    "    response = requests.get(url, headers=headers)\n",
    "    data = response.json()\n",
    "    return data\n",
    "\n",
    "NewsStories()"
   ]
  },
  {
   "cell_type": "code",
   "execution_count": 23,
   "metadata": {},
   "outputs": [
    {
     "data": {
      "text/plain": [
       "{'probability': {'neg': 0.8261048674640742,\n",
       "  'neutral': 0.11228581137553117,\n",
       "  'pos': 0.17389513253592578},\n",
       " 'label': 'neg'}"
      ]
     },
     "execution_count": 23,
     "metadata": {},
     "output_type": "execute_result"
    }
   ],
   "source": [
    "def get_sentiment(text):\n",
    "    url = \"http://text-processing.com/api/sentiment/\"\n",
    "    options = { 'text': text }\n",
    "    response = requests.post(url, data = options)\n",
    "    sentiment = response.json()\n",
    "    return sentiment\n",
    "\n",
    "get_sentiment(\"I do not like you at all you smell bad\")"
   ]
  },
  {
   "cell_type": "code",
   "execution_count": 37,
   "metadata": {},
   "outputs": [
    {
     "name": "stdout",
     "output_type": "stream",
     "text": [
      " neutral: 'Clear-cut' evidence coronavirus drug remdesivir works, Fauci says and https://www.msn.com/en-us/health/medical/clear-cut-evidence-coronavirus-drug-remdesivir-works-fauci-says/ar-BB13n6oe\n",
      " neutral: Disney World and Disneyland reopenings are still uncertain. Here's what the parks could look like when they do and https://www.usatoday.com/story/travel/experience/america/theme-parks/2020/04/29/disney-world-disneyland-post-coronavirus-what-parks-might-look-like/3041020001/\n",
      " neutral: Fed pledges to keep interest rates near zero until coronavirus-battered economy recovers and https://www.foxbusiness.com/economy/fed-pledges-aggressive-action-to-support-coronavirus-battered-economy\n",
      " neutral: Navy Seeks 'Deeper Review' In Probe Of Pandemic-Struck Warship Captain's Firing and https://www.npr.org/sections/coronavirus-live-updates/2020/04/29/847842205/navy-seeks-deeper-review-in-probe-of-pandemic-struck-warship-captain-s-firing\n",
      " neutral: Gov. Lee announces salons to open next week, bar closures continue through May and https://www.msn.com/en-us/health/medical/gov-lee-announces-salons-to-open-next-week-bar-closures-continue-through-may/ar-BB13louk\n",
      " neutral: NFL Commissioner Roger Goodell volunteers to go without salary amid coronavirus pandemic; league enforces pay cuts, furloughs and https://www.usatoday.com/story/sports/nfl/2020/04/29/nfl-roger-goodell-salary-coronavirus-league-pay-cuts-furloughs/3049732001/\n",
      " neutral: Jameis Winston Has Had a Pretty Good Career Thus Far Considering He Could Barely See and https://www.thebiglead.com/posts/jameis-winston-lasik-vision-01e73jr2sg9q\n",
      " neutral: Juul is reportedly laying off 800 to 950 employees and https://techcrunch.com/2020/04/29/juul-is-reportedly-laying-off-800-to-950-employees/\n",
      " neutral: This Baseball Movie Montage Warmed My Damn Heart and https://www.thebiglead.com/posts/baseball-movie-montage-warmed-my-damn-heart-01e73gje001w\n",
      " neutral: Man arrested on murder charge related to fatal shooting in Beverly and https://www.bostonglobe.com/2020/04/29/metro/man-arrested-murder-charge-related-fatal-shooting-beverly/\n"
     ]
    }
   ],
   "source": [
    "stories = NewsStories()\n",
    "for text in stories['value']:\n",
    "    sentiment = get_sentiment(text)\n",
    "    label = sentiment['label']\n",
    "    if label == 'pos':\n",
    "        print(f\" {label}: {text['name']} and {text['url']}\")\n",
    "    elif label =='neutral':\n",
    "        print(f\" {label}: {text['name']} and {text['url']}\")\n",
    "    else:\n",
    "        print(\"There are no positive news stories out.\")"
   ]
  },
  {
   "cell_type": "code",
   "execution_count": 38,
   "metadata": {},
   "outputs": [
    {
     "name": "stdout",
     "output_type": "stream",
     "text": [
      "Enter a topic you'd like to see news about.Baseball\n",
      " neutral: This Baseball Movie Montage Warmed My Damn Heart and https://www.thebiglead.com/posts/baseball-movie-montage-warmed-my-damn-heart-01e73gje001w\n",
      "\n"
     ]
    }
   ],
   "source": [
    "user_input = input(\"Enter a topic you'd like to see news about.\")\n",
    "with open('newsstories.txt', 'r') as newfile:\n",
    "    for line in newfile.readlines():\n",
    "        if user_input in line:\n",
    "            print(line)"
   ]
  },
  {
   "cell_type": "code",
   "execution_count": null,
   "metadata": {},
   "outputs": [],
   "source": []
  },
  {
   "cell_type": "code",
   "execution_count": null,
   "metadata": {},
   "outputs": [],
   "source": []
  }
 ],
 "metadata": {
  "kernelspec": {
   "display_name": "Python 3",
   "language": "python",
   "name": "python3"
  },
  "language_info": {
   "codemirror_mode": {
    "name": "ipython",
    "version": 3
   },
   "file_extension": ".py",
   "mimetype": "text/x-python",
   "name": "python",
   "nbconvert_exporter": "python",
   "pygments_lexer": "ipython3",
   "version": "3.7.6"
  }
 },
 "nbformat": 4,
 "nbformat_minor": 2
}
